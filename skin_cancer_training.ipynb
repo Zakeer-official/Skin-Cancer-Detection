{
 "cells": [
  {
   "cell_type": "code",
   "execution_count": 1,
   "metadata": {
    "id": "RWfcJdOno-bW"
   },
   "outputs": [],
   "source": [
    "import pandas as pd\n",
    "import numpy as np\n",
    "import os\n",
    "import kagglehub"
   ]
  },
  {
   "cell_type": "code",
   "execution_count": 2,
   "metadata": {
    "colab": {
     "base_uri": "https://localhost:8080/"
    },
    "id": "cu1oXQ0lpwKp",
    "outputId": "7e280ebc-9a05-4da3-bc4a-c005e4efc377"
   },
   "outputs": [
    {
     "name": "stdout",
     "output_type": "stream",
     "text": [
      "Downloading from https://www.kaggle.com/api/v1/datasets/download/kmader/skin-cancer-mnist-ham10000?dataset_version_number=2...\n"
     ]
    },
    {
     "name": "stderr",
     "output_type": "stream",
     "text": [
      "100%|██████████| 5.20G/5.20G [00:25<00:00, 219MB/s]"
     ]
    },
    {
     "name": "stdout",
     "output_type": "stream",
     "text": [
      "Extracting files...\n"
     ]
    },
    {
     "name": "stderr",
     "output_type": "stream",
     "text": [
      "\n"
     ]
    }
   ],
   "source": [
    "path = kagglehub.dataset_download(\"kmader/skin-cancer-mnist-ham10000\")"
   ]
  },
  {
   "cell_type": "markdown",
   "metadata": {},
   "source": []
  },
  {
   "cell_type": "code",
   "execution_count": 3,
   "metadata": {
    "colab": {
     "base_uri": "https://localhost:8080/"
    },
    "id": "wtXf-XTIrGX7",
    "outputId": "a63b454d-4873-4f95-a9f3-102a2dae4281"
   },
   "outputs": [
    {
     "name": "stdout",
     "output_type": "stream",
     "text": [
      "   pixel0000  pixel0001  pixel0002  pixel0003  pixel0004  pixel0005  \\\n",
      "0        192        153        193        195        155        192   \n",
      "1         25         14         30         68         48         75   \n",
      "2        192        138        153        200        145        163   \n",
      "3         38         19         30         95         59         72   \n",
      "4        158        113        139        194        144        174   \n",
      "\n",
      "   pixel0006  pixel0007  pixel0008  pixel0009  ...  pixel2343  pixel2344  \\\n",
      "0        197        154        185        202  ...        173        124   \n",
      "1        123         93        126        158  ...         60         39   \n",
      "2        201        142        160        206  ...        167        129   \n",
      "3        143        103        119        171  ...         44         26   \n",
      "4        215        162        191        225  ...        209        166   \n",
      "\n",
      "   pixel2345  pixel2346  pixel2347  pixel2348  pixel2349  pixel2350  \\\n",
      "0        138        183        147        166        185        154   \n",
      "1         55         25         14         28         25         14   \n",
      "2        143        159        124        142        136        104   \n",
      "3         36         25         12         17         25         12   \n",
      "4        185        172        135        149        109         78   \n",
      "\n",
      "   pixel2351  label  \n",
      "0        177      2  \n",
      "1         27      2  \n",
      "2        117      2  \n",
      "3         15      2  \n",
      "4         92      2  \n",
      "\n",
      "[5 rows x 2353 columns]\n"
     ]
    }
   ],
   "source": [
    "\n",
    "# Specify the exact path to the CSV file\n",
    "csv_file_path = os.path.join(path, \"hmnist_28_28_RGB.csv\")\n",
    "\n",
    "# Load the CSV file into a DataFrame\n",
    "df = pd.read_csv(csv_file_path)\n",
    "\n",
    "# Display the first few rows to confirm it's loaded correctly\n",
    "print(df.head())\n"
   ]
  },
  {
   "cell_type": "code",
   "execution_count": 4,
   "metadata": {
    "colab": {
     "base_uri": "https://localhost:8080/",
     "height": 255
    },
    "id": "OG1UlYVarJ-w",
    "outputId": "7752ee6b-5231-4d42-8468-ed677450da41"
   },
   "outputs": [
    {
     "data": {
      "application/vnd.google.colaboratory.intrinsic+json": {
       "type": "dataframe"
      },
      "text/html": [
       "\n",
       "  <div id=\"df-bdf95cc2-4c09-43cd-b846-b58dab440438\" class=\"colab-df-container\">\n",
       "    <div>\n",
       "<style scoped>\n",
       "    .dataframe tbody tr th:only-of-type {\n",
       "        vertical-align: middle;\n",
       "    }\n",
       "\n",
       "    .dataframe tbody tr th {\n",
       "        vertical-align: top;\n",
       "    }\n",
       "\n",
       "    .dataframe thead th {\n",
       "        text-align: right;\n",
       "    }\n",
       "</style>\n",
       "<table border=\"1\" class=\"dataframe\">\n",
       "  <thead>\n",
       "    <tr style=\"text-align: right;\">\n",
       "      <th></th>\n",
       "      <th>pixel0000</th>\n",
       "      <th>pixel0001</th>\n",
       "      <th>pixel0002</th>\n",
       "      <th>pixel0003</th>\n",
       "      <th>pixel0004</th>\n",
       "      <th>pixel0005</th>\n",
       "      <th>pixel0006</th>\n",
       "      <th>pixel0007</th>\n",
       "      <th>pixel0008</th>\n",
       "      <th>pixel0009</th>\n",
       "      <th>...</th>\n",
       "      <th>pixel2343</th>\n",
       "      <th>pixel2344</th>\n",
       "      <th>pixel2345</th>\n",
       "      <th>pixel2346</th>\n",
       "      <th>pixel2347</th>\n",
       "      <th>pixel2348</th>\n",
       "      <th>pixel2349</th>\n",
       "      <th>pixel2350</th>\n",
       "      <th>pixel2351</th>\n",
       "      <th>label</th>\n",
       "    </tr>\n",
       "  </thead>\n",
       "  <tbody>\n",
       "    <tr>\n",
       "      <th>10010</th>\n",
       "      <td>183</td>\n",
       "      <td>165</td>\n",
       "      <td>181</td>\n",
       "      <td>182</td>\n",
       "      <td>165</td>\n",
       "      <td>180</td>\n",
       "      <td>184</td>\n",
       "      <td>166</td>\n",
       "      <td>182</td>\n",
       "      <td>188</td>\n",
       "      <td>...</td>\n",
       "      <td>208</td>\n",
       "      <td>185</td>\n",
       "      <td>187</td>\n",
       "      <td>208</td>\n",
       "      <td>186</td>\n",
       "      <td>186</td>\n",
       "      <td>206</td>\n",
       "      <td>187</td>\n",
       "      <td>189</td>\n",
       "      <td>0</td>\n",
       "    </tr>\n",
       "    <tr>\n",
       "      <th>10011</th>\n",
       "      <td>2</td>\n",
       "      <td>3</td>\n",
       "      <td>1</td>\n",
       "      <td>38</td>\n",
       "      <td>33</td>\n",
       "      <td>32</td>\n",
       "      <td>121</td>\n",
       "      <td>104</td>\n",
       "      <td>103</td>\n",
       "      <td>132</td>\n",
       "      <td>...</td>\n",
       "      <td>96</td>\n",
       "      <td>79</td>\n",
       "      <td>76</td>\n",
       "      <td>24</td>\n",
       "      <td>23</td>\n",
       "      <td>21</td>\n",
       "      <td>3</td>\n",
       "      <td>4</td>\n",
       "      <td>1</td>\n",
       "      <td>0</td>\n",
       "    </tr>\n",
       "    <tr>\n",
       "      <th>10012</th>\n",
       "      <td>132</td>\n",
       "      <td>118</td>\n",
       "      <td>118</td>\n",
       "      <td>167</td>\n",
       "      <td>149</td>\n",
       "      <td>149</td>\n",
       "      <td>175</td>\n",
       "      <td>156</td>\n",
       "      <td>160</td>\n",
       "      <td>184</td>\n",
       "      <td>...</td>\n",
       "      <td>204</td>\n",
       "      <td>181</td>\n",
       "      <td>178</td>\n",
       "      <td>181</td>\n",
       "      <td>159</td>\n",
       "      <td>153</td>\n",
       "      <td>172</td>\n",
       "      <td>151</td>\n",
       "      <td>145</td>\n",
       "      <td>0</td>\n",
       "    </tr>\n",
       "    <tr>\n",
       "      <th>10013</th>\n",
       "      <td>160</td>\n",
       "      <td>124</td>\n",
       "      <td>146</td>\n",
       "      <td>164</td>\n",
       "      <td>131</td>\n",
       "      <td>152</td>\n",
       "      <td>167</td>\n",
       "      <td>127</td>\n",
       "      <td>146</td>\n",
       "      <td>169</td>\n",
       "      <td>...</td>\n",
       "      <td>185</td>\n",
       "      <td>162</td>\n",
       "      <td>167</td>\n",
       "      <td>184</td>\n",
       "      <td>157</td>\n",
       "      <td>166</td>\n",
       "      <td>185</td>\n",
       "      <td>162</td>\n",
       "      <td>172</td>\n",
       "      <td>0</td>\n",
       "    </tr>\n",
       "    <tr>\n",
       "      <th>10014</th>\n",
       "      <td>175</td>\n",
       "      <td>142</td>\n",
       "      <td>121</td>\n",
       "      <td>181</td>\n",
       "      <td>150</td>\n",
       "      <td>134</td>\n",
       "      <td>181</td>\n",
       "      <td>150</td>\n",
       "      <td>133</td>\n",
       "      <td>178</td>\n",
       "      <td>...</td>\n",
       "      <td>159</td>\n",
       "      <td>79</td>\n",
       "      <td>82</td>\n",
       "      <td>174</td>\n",
       "      <td>137</td>\n",
       "      <td>125</td>\n",
       "      <td>175</td>\n",
       "      <td>139</td>\n",
       "      <td>126</td>\n",
       "      <td>6</td>\n",
       "    </tr>\n",
       "  </tbody>\n",
       "</table>\n",
       "<p>5 rows × 2353 columns</p>\n",
       "</div>\n",
       "    <div class=\"colab-df-buttons\">\n",
       "\n",
       "  <div class=\"colab-df-container\">\n",
       "    <button class=\"colab-df-convert\" onclick=\"convertToInteractive('df-bdf95cc2-4c09-43cd-b846-b58dab440438')\"\n",
       "            title=\"Convert this dataframe to an interactive table.\"\n",
       "            style=\"display:none;\">\n",
       "\n",
       "  <svg xmlns=\"http://www.w3.org/2000/svg\" height=\"24px\" viewBox=\"0 -960 960 960\">\n",
       "    <path d=\"M120-120v-720h720v720H120Zm60-500h600v-160H180v160Zm220 220h160v-160H400v160Zm0 220h160v-160H400v160ZM180-400h160v-160H180v160Zm440 0h160v-160H620v160ZM180-180h160v-160H180v160Zm440 0h160v-160H620v160Z\"/>\n",
       "  </svg>\n",
       "    </button>\n",
       "\n",
       "  <style>\n",
       "    .colab-df-container {\n",
       "      display:flex;\n",
       "      gap: 12px;\n",
       "    }\n",
       "\n",
       "    .colab-df-convert {\n",
       "      background-color: #E8F0FE;\n",
       "      border: none;\n",
       "      border-radius: 50%;\n",
       "      cursor: pointer;\n",
       "      display: none;\n",
       "      fill: #1967D2;\n",
       "      height: 32px;\n",
       "      padding: 0 0 0 0;\n",
       "      width: 32px;\n",
       "    }\n",
       "\n",
       "    .colab-df-convert:hover {\n",
       "      background-color: #E2EBFA;\n",
       "      box-shadow: 0px 1px 2px rgba(60, 64, 67, 0.3), 0px 1px 3px 1px rgba(60, 64, 67, 0.15);\n",
       "      fill: #174EA6;\n",
       "    }\n",
       "\n",
       "    .colab-df-buttons div {\n",
       "      margin-bottom: 4px;\n",
       "    }\n",
       "\n",
       "    [theme=dark] .colab-df-convert {\n",
       "      background-color: #3B4455;\n",
       "      fill: #D2E3FC;\n",
       "    }\n",
       "\n",
       "    [theme=dark] .colab-df-convert:hover {\n",
       "      background-color: #434B5C;\n",
       "      box-shadow: 0px 1px 3px 1px rgba(0, 0, 0, 0.15);\n",
       "      filter: drop-shadow(0px 1px 2px rgba(0, 0, 0, 0.3));\n",
       "      fill: #FFFFFF;\n",
       "    }\n",
       "  </style>\n",
       "\n",
       "    <script>\n",
       "      const buttonEl =\n",
       "        document.querySelector('#df-bdf95cc2-4c09-43cd-b846-b58dab440438 button.colab-df-convert');\n",
       "      buttonEl.style.display =\n",
       "        google.colab.kernel.accessAllowed ? 'block' : 'none';\n",
       "\n",
       "      async function convertToInteractive(key) {\n",
       "        const element = document.querySelector('#df-bdf95cc2-4c09-43cd-b846-b58dab440438');\n",
       "        const dataTable =\n",
       "          await google.colab.kernel.invokeFunction('convertToInteractive',\n",
       "                                                    [key], {});\n",
       "        if (!dataTable) return;\n",
       "\n",
       "        const docLinkHtml = 'Like what you see? Visit the ' +\n",
       "          '<a target=\"_blank\" href=https://colab.research.google.com/notebooks/data_table.ipynb>data table notebook</a>'\n",
       "          + ' to learn more about interactive tables.';\n",
       "        element.innerHTML = '';\n",
       "        dataTable['output_type'] = 'display_data';\n",
       "        await google.colab.output.renderOutput(dataTable, element);\n",
       "        const docLink = document.createElement('div');\n",
       "        docLink.innerHTML = docLinkHtml;\n",
       "        element.appendChild(docLink);\n",
       "      }\n",
       "    </script>\n",
       "  </div>\n",
       "\n",
       "\n",
       "<div id=\"df-d74ab764-67ca-4280-9a87-d98998708fea\">\n",
       "  <button class=\"colab-df-quickchart\" onclick=\"quickchart('df-d74ab764-67ca-4280-9a87-d98998708fea')\"\n",
       "            title=\"Suggest charts\"\n",
       "            style=\"display:none;\">\n",
       "\n",
       "<svg xmlns=\"http://www.w3.org/2000/svg\" height=\"24px\"viewBox=\"0 0 24 24\"\n",
       "     width=\"24px\">\n",
       "    <g>\n",
       "        <path d=\"M19 3H5c-1.1 0-2 .9-2 2v14c0 1.1.9 2 2 2h14c1.1 0 2-.9 2-2V5c0-1.1-.9-2-2-2zM9 17H7v-7h2v7zm4 0h-2V7h2v10zm4 0h-2v-4h2v4z\"/>\n",
       "    </g>\n",
       "</svg>\n",
       "  </button>\n",
       "\n",
       "<style>\n",
       "  .colab-df-quickchart {\n",
       "      --bg-color: #E8F0FE;\n",
       "      --fill-color: #1967D2;\n",
       "      --hover-bg-color: #E2EBFA;\n",
       "      --hover-fill-color: #174EA6;\n",
       "      --disabled-fill-color: #AAA;\n",
       "      --disabled-bg-color: #DDD;\n",
       "  }\n",
       "\n",
       "  [theme=dark] .colab-df-quickchart {\n",
       "      --bg-color: #3B4455;\n",
       "      --fill-color: #D2E3FC;\n",
       "      --hover-bg-color: #434B5C;\n",
       "      --hover-fill-color: #FFFFFF;\n",
       "      --disabled-bg-color: #3B4455;\n",
       "      --disabled-fill-color: #666;\n",
       "  }\n",
       "\n",
       "  .colab-df-quickchart {\n",
       "    background-color: var(--bg-color);\n",
       "    border: none;\n",
       "    border-radius: 50%;\n",
       "    cursor: pointer;\n",
       "    display: none;\n",
       "    fill: var(--fill-color);\n",
       "    height: 32px;\n",
       "    padding: 0;\n",
       "    width: 32px;\n",
       "  }\n",
       "\n",
       "  .colab-df-quickchart:hover {\n",
       "    background-color: var(--hover-bg-color);\n",
       "    box-shadow: 0 1px 2px rgba(60, 64, 67, 0.3), 0 1px 3px 1px rgba(60, 64, 67, 0.15);\n",
       "    fill: var(--button-hover-fill-color);\n",
       "  }\n",
       "\n",
       "  .colab-df-quickchart-complete:disabled,\n",
       "  .colab-df-quickchart-complete:disabled:hover {\n",
       "    background-color: var(--disabled-bg-color);\n",
       "    fill: var(--disabled-fill-color);\n",
       "    box-shadow: none;\n",
       "  }\n",
       "\n",
       "  .colab-df-spinner {\n",
       "    border: 2px solid var(--fill-color);\n",
       "    border-color: transparent;\n",
       "    border-bottom-color: var(--fill-color);\n",
       "    animation:\n",
       "      spin 1s steps(1) infinite;\n",
       "  }\n",
       "\n",
       "  @keyframes spin {\n",
       "    0% {\n",
       "      border-color: transparent;\n",
       "      border-bottom-color: var(--fill-color);\n",
       "      border-left-color: var(--fill-color);\n",
       "    }\n",
       "    20% {\n",
       "      border-color: transparent;\n",
       "      border-left-color: var(--fill-color);\n",
       "      border-top-color: var(--fill-color);\n",
       "    }\n",
       "    30% {\n",
       "      border-color: transparent;\n",
       "      border-left-color: var(--fill-color);\n",
       "      border-top-color: var(--fill-color);\n",
       "      border-right-color: var(--fill-color);\n",
       "    }\n",
       "    40% {\n",
       "      border-color: transparent;\n",
       "      border-right-color: var(--fill-color);\n",
       "      border-top-color: var(--fill-color);\n",
       "    }\n",
       "    60% {\n",
       "      border-color: transparent;\n",
       "      border-right-color: var(--fill-color);\n",
       "    }\n",
       "    80% {\n",
       "      border-color: transparent;\n",
       "      border-right-color: var(--fill-color);\n",
       "      border-bottom-color: var(--fill-color);\n",
       "    }\n",
       "    90% {\n",
       "      border-color: transparent;\n",
       "      border-bottom-color: var(--fill-color);\n",
       "    }\n",
       "  }\n",
       "</style>\n",
       "\n",
       "  <script>\n",
       "    async function quickchart(key) {\n",
       "      const quickchartButtonEl =\n",
       "        document.querySelector('#' + key + ' button');\n",
       "      quickchartButtonEl.disabled = true;  // To prevent multiple clicks.\n",
       "      quickchartButtonEl.classList.add('colab-df-spinner');\n",
       "      try {\n",
       "        const charts = await google.colab.kernel.invokeFunction(\n",
       "            'suggestCharts', [key], {});\n",
       "      } catch (error) {\n",
       "        console.error('Error during call to suggestCharts:', error);\n",
       "      }\n",
       "      quickchartButtonEl.classList.remove('colab-df-spinner');\n",
       "      quickchartButtonEl.classList.add('colab-df-quickchart-complete');\n",
       "    }\n",
       "    (() => {\n",
       "      let quickchartButtonEl =\n",
       "        document.querySelector('#df-d74ab764-67ca-4280-9a87-d98998708fea button');\n",
       "      quickchartButtonEl.style.display =\n",
       "        google.colab.kernel.accessAllowed ? 'block' : 'none';\n",
       "    })();\n",
       "  </script>\n",
       "</div>\n",
       "\n",
       "    </div>\n",
       "  </div>\n"
      ],
      "text/plain": [
       "       pixel0000  pixel0001  pixel0002  pixel0003  pixel0004  pixel0005  \\\n",
       "10010        183        165        181        182        165        180   \n",
       "10011          2          3          1         38         33         32   \n",
       "10012        132        118        118        167        149        149   \n",
       "10013        160        124        146        164        131        152   \n",
       "10014        175        142        121        181        150        134   \n",
       "\n",
       "       pixel0006  pixel0007  pixel0008  pixel0009  ...  pixel2343  pixel2344  \\\n",
       "10010        184        166        182        188  ...        208        185   \n",
       "10011        121        104        103        132  ...         96         79   \n",
       "10012        175        156        160        184  ...        204        181   \n",
       "10013        167        127        146        169  ...        185        162   \n",
       "10014        181        150        133        178  ...        159         79   \n",
       "\n",
       "       pixel2345  pixel2346  pixel2347  pixel2348  pixel2349  pixel2350  \\\n",
       "10010        187        208        186        186        206        187   \n",
       "10011         76         24         23         21          3          4   \n",
       "10012        178        181        159        153        172        151   \n",
       "10013        167        184        157        166        185        162   \n",
       "10014         82        174        137        125        175        139   \n",
       "\n",
       "       pixel2351  label  \n",
       "10010        189      0  \n",
       "10011          1      0  \n",
       "10012        145      0  \n",
       "10013        172      0  \n",
       "10014        126      6  \n",
       "\n",
       "[5 rows x 2353 columns]"
      ]
     },
     "execution_count": 4,
     "metadata": {},
     "output_type": "execute_result"
    }
   ],
   "source": [
    "df.tail()"
   ]
  },
  {
   "cell_type": "code",
   "execution_count": 5,
   "metadata": {
    "colab": {
     "base_uri": "https://localhost:8080/"
    },
    "id": "N2PVGZwVMjnO",
    "outputId": "c19df305-7540-49e2-847f-4e98905136f7"
   },
   "outputs": [
    {
     "name": "stdout",
     "output_type": "stream",
     "text": [
      "(10015, 2353)\n"
     ]
    }
   ],
   "source": [
    "print(df.shape)"
   ]
  },
  {
   "cell_type": "code",
   "execution_count": 6,
   "metadata": {
    "colab": {
     "base_uri": "https://localhost:8080/"
    },
    "id": "3GMBoAp6M9h1",
    "outputId": "e3579b1a-74ab-4103-fe3e-0f958f936db0"
   },
   "outputs": [
    {
     "name": "stdout",
     "output_type": "stream",
     "text": [
      "Features of the dataset:\n"
     ]
    },
    {
     "data": {
      "text/plain": [
       "Index(['pixel0000', 'pixel0001', 'pixel0002', 'pixel0003', 'pixel0004',\n",
       "       'pixel0005', 'pixel0006', 'pixel0007', 'pixel0008', 'pixel0009',\n",
       "       ...\n",
       "       'pixel2343', 'pixel2344', 'pixel2345', 'pixel2346', 'pixel2347',\n",
       "       'pixel2348', 'pixel2349', 'pixel2350', 'pixel2351', 'label'],\n",
       "      dtype='object', length=2353)"
      ]
     },
     "execution_count": 6,
     "metadata": {},
     "output_type": "execute_result"
    }
   ],
   "source": [
    "print(\"Features of the dataset:\")\n",
    "df.columns"
   ]
  },
  {
   "cell_type": "code",
   "execution_count": 7,
   "metadata": {
    "colab": {
     "base_uri": "https://localhost:8080/"
    },
    "id": "WPjhvG-VNIav",
    "outputId": "40c0df61-9053-4637-cfd2-afd67f4c67dc"
   },
   "outputs": [
    {
     "name": "stdout",
     "output_type": "stream",
     "text": [
      "<class 'pandas.core.frame.DataFrame'>\n",
      "RangeIndex: 10015 entries, 0 to 10014\n",
      "Columns: 2353 entries, pixel0000 to label\n",
      "dtypes: int64(2353)\n",
      "memory usage: 179.8 MB\n"
     ]
    }
   ],
   "source": [
    "df.info()"
   ]
  },
  {
   "cell_type": "code",
   "execution_count": 8,
   "metadata": {
    "colab": {
     "base_uri": "https://localhost:8080/",
     "height": 458
    },
    "id": "FIdbqbl9NNey",
    "outputId": "e8437f5a-c84c-429d-93f0-174dbe0e045b"
   },
   "outputs": [
    {
     "data": {
      "text/html": [
       "<div>\n",
       "<style scoped>\n",
       "    .dataframe tbody tr th:only-of-type {\n",
       "        vertical-align: middle;\n",
       "    }\n",
       "\n",
       "    .dataframe tbody tr th {\n",
       "        vertical-align: top;\n",
       "    }\n",
       "\n",
       "    .dataframe thead th {\n",
       "        text-align: right;\n",
       "    }\n",
       "</style>\n",
       "<table border=\"1\" class=\"dataframe\">\n",
       "  <thead>\n",
       "    <tr style=\"text-align: right;\">\n",
       "      <th></th>\n",
       "      <th>0</th>\n",
       "    </tr>\n",
       "  </thead>\n",
       "  <tbody>\n",
       "    <tr>\n",
       "      <th>pixel0000</th>\n",
       "      <td>256</td>\n",
       "    </tr>\n",
       "    <tr>\n",
       "      <th>pixel0001</th>\n",
       "      <td>242</td>\n",
       "    </tr>\n",
       "    <tr>\n",
       "      <th>pixel0002</th>\n",
       "      <td>255</td>\n",
       "    </tr>\n",
       "    <tr>\n",
       "      <th>pixel0003</th>\n",
       "      <td>255</td>\n",
       "    </tr>\n",
       "    <tr>\n",
       "      <th>pixel0004</th>\n",
       "      <td>240</td>\n",
       "    </tr>\n",
       "    <tr>\n",
       "      <th>...</th>\n",
       "      <td>...</td>\n",
       "    </tr>\n",
       "    <tr>\n",
       "      <th>pixel2348</th>\n",
       "      <td>255</td>\n",
       "    </tr>\n",
       "    <tr>\n",
       "      <th>pixel2349</th>\n",
       "      <td>254</td>\n",
       "    </tr>\n",
       "    <tr>\n",
       "      <th>pixel2350</th>\n",
       "      <td>237</td>\n",
       "    </tr>\n",
       "    <tr>\n",
       "      <th>pixel2351</th>\n",
       "      <td>252</td>\n",
       "    </tr>\n",
       "    <tr>\n",
       "      <th>label</th>\n",
       "      <td>7</td>\n",
       "    </tr>\n",
       "  </tbody>\n",
       "</table>\n",
       "<p>2353 rows × 1 columns</p>\n",
       "</div><br><label><b>dtype:</b> int64</label>"
      ],
      "text/plain": [
       "pixel0000    256\n",
       "pixel0001    242\n",
       "pixel0002    255\n",
       "pixel0003    255\n",
       "pixel0004    240\n",
       "            ... \n",
       "pixel2348    255\n",
       "pixel2349    254\n",
       "pixel2350    237\n",
       "pixel2351    252\n",
       "label          7\n",
       "Length: 2353, dtype: int64"
      ]
     },
     "execution_count": 8,
     "metadata": {},
     "output_type": "execute_result"
    }
   ],
   "source": [
    "df.nunique()"
   ]
  },
  {
   "cell_type": "code",
   "execution_count": 9,
   "metadata": {
    "colab": {
     "base_uri": "https://localhost:8080/",
     "height": 423
    },
    "id": "eWj7McEyNP43",
    "outputId": "52ade281-0e30-40a6-9df4-cfa34e9d2161"
   },
   "outputs": [
    {
     "data": {
      "application/vnd.google.colaboratory.intrinsic+json": {
       "summary": "{\n  \"name\": \"df\",\n  \"rows\": 2353,\n  \"fields\": [\n    {\n      \"column\": \"count\",\n      \"properties\": {\n        \"dtype\": \"number\",\n        \"std\": 0.0,\n        \"min\": 10015.0,\n        \"max\": 10015.0,\n        \"num_unique_values\": 1,\n        \"samples\": [\n          10015.0\n        ],\n        \"semantic_type\": \"\",\n        \"description\": \"\"\n      }\n    },\n    {\n      \"column\": \"mean\",\n      \"properties\": {\n        \"dtype\": \"number\",\n        \"std\": 29.576534445331742,\n        \"min\": 3.7209186220668995,\n        \"max\": 209.717923115327,\n        \"num_unique_values\": 2350,\n        \"samples\": [\n          112.17483774338493\n        ],\n        \"semantic_type\": \"\",\n        \"description\": \"\"\n      }\n    },\n    {\n      \"column\": \"std\",\n      \"properties\": {\n        \"dtype\": \"number\",\n        \"std\": 6.690976563167417,\n        \"min\": 1.3474994242262563,\n        \"max\": 59.746698464123476,\n        \"num_unique_values\": 2353,\n        \"samples\": [\n          48.43089122070311\n        ],\n        \"semantic_type\": \"\",\n        \"description\": \"\"\n      }\n    },\n    {\n      \"column\": \"min\",\n      \"properties\": {\n        \"dtype\": \"number\",\n        \"std\": 5.874480031646289,\n        \"min\": 0.0,\n        \"max\": 41.0,\n        \"num_unique_values\": 38,\n        \"samples\": [\n          12.0\n        ],\n        \"semantic_type\": \"\",\n        \"description\": \"\"\n      }\n    },\n    {\n      \"column\": \"25%\",\n      \"properties\": {\n        \"dtype\": \"number\",\n        \"std\": 33.61497684961391,\n        \"min\": 4.0,\n        \"max\": 189.0,\n        \"num_unique_values\": 157,\n        \"samples\": [\n          60.0\n        ],\n        \"semantic_type\": \"\",\n        \"description\": \"\"\n      }\n    },\n    {\n      \"column\": \"50%\",\n      \"properties\": {\n        \"dtype\": \"number\",\n        \"std\": 30.75131347904818,\n        \"min\": 4.0,\n        \"max\": 213.0,\n        \"num_unique_values\": 138,\n        \"samples\": [\n          112.0\n        ],\n        \"semantic_type\": \"\",\n        \"description\": \"\"\n      }\n    },\n    {\n      \"column\": \"75%\",\n      \"properties\": {\n        \"dtype\": \"number\",\n        \"std\": 27.814168704237687,\n        \"min\": 4.0,\n        \"max\": 234.0,\n        \"num_unique_values\": 149,\n        \"samples\": [\n          155.0\n        ],\n        \"semantic_type\": \"\",\n        \"description\": \"\"\n      }\n    },\n    {\n      \"column\": \"max\",\n      \"properties\": {\n        \"dtype\": \"number\",\n        \"std\": 7.693199308818478,\n        \"min\": 6.0,\n        \"max\": 255.0,\n        \"num_unique_values\": 42,\n        \"samples\": [\n          225.0\n        ],\n        \"semantic_type\": \"\",\n        \"description\": \"\"\n      }\n    }\n  ]\n}",
       "type": "dataframe"
      },
      "text/html": [
       "\n",
       "  <div id=\"df-ec0adff6-f786-4f68-ad36-7c4f066d2c29\" class=\"colab-df-container\">\n",
       "    <div>\n",
       "<style scoped>\n",
       "    .dataframe tbody tr th:only-of-type {\n",
       "        vertical-align: middle;\n",
       "    }\n",
       "\n",
       "    .dataframe tbody tr th {\n",
       "        vertical-align: top;\n",
       "    }\n",
       "\n",
       "    .dataframe thead th {\n",
       "        text-align: right;\n",
       "    }\n",
       "</style>\n",
       "<table border=\"1\" class=\"dataframe\">\n",
       "  <thead>\n",
       "    <tr style=\"text-align: right;\">\n",
       "      <th></th>\n",
       "      <th>count</th>\n",
       "      <th>mean</th>\n",
       "      <th>std</th>\n",
       "      <th>min</th>\n",
       "      <th>25%</th>\n",
       "      <th>50%</th>\n",
       "      <th>75%</th>\n",
       "      <th>max</th>\n",
       "    </tr>\n",
       "  </thead>\n",
       "  <tbody>\n",
       "    <tr>\n",
       "      <th>pixel0000</th>\n",
       "      <td>10015.0</td>\n",
       "      <td>181.056415</td>\n",
       "      <td>59.746698</td>\n",
       "      <td>0.0</td>\n",
       "      <td>158.0</td>\n",
       "      <td>198.0</td>\n",
       "      <td>224.0</td>\n",
       "      <td>255.0</td>\n",
       "    </tr>\n",
       "    <tr>\n",
       "      <th>pixel0001</th>\n",
       "      <td>10015.0</td>\n",
       "      <td>131.728407</td>\n",
       "      <td>45.043473</td>\n",
       "      <td>0.0</td>\n",
       "      <td>117.0</td>\n",
       "      <td>141.0</td>\n",
       "      <td>159.0</td>\n",
       "      <td>246.0</td>\n",
       "    </tr>\n",
       "    <tr>\n",
       "      <th>pixel0002</th>\n",
       "      <td>10015.0</td>\n",
       "      <td>141.240240</td>\n",
       "      <td>48.672670</td>\n",
       "      <td>0.0</td>\n",
       "      <td>123.0</td>\n",
       "      <td>151.0</td>\n",
       "      <td>172.0</td>\n",
       "      <td>255.0</td>\n",
       "    </tr>\n",
       "    <tr>\n",
       "      <th>pixel0003</th>\n",
       "      <td>10015.0</td>\n",
       "      <td>187.274488</td>\n",
       "      <td>54.021274</td>\n",
       "      <td>0.0</td>\n",
       "      <td>165.0</td>\n",
       "      <td>201.0</td>\n",
       "      <td>226.0</td>\n",
       "      <td>254.0</td>\n",
       "    </tr>\n",
       "    <tr>\n",
       "      <th>pixel0004</th>\n",
       "      <td>10015.0</td>\n",
       "      <td>137.089466</td>\n",
       "      <td>41.138096</td>\n",
       "      <td>0.0</td>\n",
       "      <td>122.0</td>\n",
       "      <td>144.0</td>\n",
       "      <td>162.0</td>\n",
       "      <td>246.0</td>\n",
       "    </tr>\n",
       "    <tr>\n",
       "      <th>...</th>\n",
       "      <td>...</td>\n",
       "      <td>...</td>\n",
       "      <td>...</td>\n",
       "      <td>...</td>\n",
       "      <td>...</td>\n",
       "      <td>...</td>\n",
       "      <td>...</td>\n",
       "      <td>...</td>\n",
       "    </tr>\n",
       "    <tr>\n",
       "      <th>pixel2348</th>\n",
       "      <td>10015.0</td>\n",
       "      <td>138.752172</td>\n",
       "      <td>45.642257</td>\n",
       "      <td>0.0</td>\n",
       "      <td>120.0</td>\n",
       "      <td>146.0</td>\n",
       "      <td>166.0</td>\n",
       "      <td>255.0</td>\n",
       "    </tr>\n",
       "    <tr>\n",
       "      <th>pixel2349</th>\n",
       "      <td>10015.0</td>\n",
       "      <td>172.307239</td>\n",
       "      <td>58.533979</td>\n",
       "      <td>0.0</td>\n",
       "      <td>153.0</td>\n",
       "      <td>191.0</td>\n",
       "      <td>212.0</td>\n",
       "      <td>254.0</td>\n",
       "    </tr>\n",
       "    <tr>\n",
       "      <th>pixel2350</th>\n",
       "      <td>10015.0</td>\n",
       "      <td>127.871193</td>\n",
       "      <td>46.453818</td>\n",
       "      <td>0.0</td>\n",
       "      <td>113.0</td>\n",
       "      <td>138.0</td>\n",
       "      <td>156.0</td>\n",
       "      <td>249.0</td>\n",
       "    </tr>\n",
       "    <tr>\n",
       "      <th>pixel2351</th>\n",
       "      <td>10015.0</td>\n",
       "      <td>133.144483</td>\n",
       "      <td>49.060028</td>\n",
       "      <td>0.0</td>\n",
       "      <td>115.0</td>\n",
       "      <td>142.0</td>\n",
       "      <td>163.0</td>\n",
       "      <td>254.0</td>\n",
       "    </tr>\n",
       "    <tr>\n",
       "      <th>label</th>\n",
       "      <td>10015.0</td>\n",
       "      <td>3.720919</td>\n",
       "      <td>1.347499</td>\n",
       "      <td>0.0</td>\n",
       "      <td>4.0</td>\n",
       "      <td>4.0</td>\n",
       "      <td>4.0</td>\n",
       "      <td>6.0</td>\n",
       "    </tr>\n",
       "  </tbody>\n",
       "</table>\n",
       "<p>2353 rows × 8 columns</p>\n",
       "</div>\n",
       "    <div class=\"colab-df-buttons\">\n",
       "\n",
       "  <div class=\"colab-df-container\">\n",
       "    <button class=\"colab-df-convert\" onclick=\"convertToInteractive('df-ec0adff6-f786-4f68-ad36-7c4f066d2c29')\"\n",
       "            title=\"Convert this dataframe to an interactive table.\"\n",
       "            style=\"display:none;\">\n",
       "\n",
       "  <svg xmlns=\"http://www.w3.org/2000/svg\" height=\"24px\" viewBox=\"0 -960 960 960\">\n",
       "    <path d=\"M120-120v-720h720v720H120Zm60-500h600v-160H180v160Zm220 220h160v-160H400v160Zm0 220h160v-160H400v160ZM180-400h160v-160H180v160Zm440 0h160v-160H620v160ZM180-180h160v-160H180v160Zm440 0h160v-160H620v160Z\"/>\n",
       "  </svg>\n",
       "    </button>\n",
       "\n",
       "  <style>\n",
       "    .colab-df-container {\n",
       "      display:flex;\n",
       "      gap: 12px;\n",
       "    }\n",
       "\n",
       "    .colab-df-convert {\n",
       "      background-color: #E8F0FE;\n",
       "      border: none;\n",
       "      border-radius: 50%;\n",
       "      cursor: pointer;\n",
       "      display: none;\n",
       "      fill: #1967D2;\n",
       "      height: 32px;\n",
       "      padding: 0 0 0 0;\n",
       "      width: 32px;\n",
       "    }\n",
       "\n",
       "    .colab-df-convert:hover {\n",
       "      background-color: #E2EBFA;\n",
       "      box-shadow: 0px 1px 2px rgba(60, 64, 67, 0.3), 0px 1px 3px 1px rgba(60, 64, 67, 0.15);\n",
       "      fill: #174EA6;\n",
       "    }\n",
       "\n",
       "    .colab-df-buttons div {\n",
       "      margin-bottom: 4px;\n",
       "    }\n",
       "\n",
       "    [theme=dark] .colab-df-convert {\n",
       "      background-color: #3B4455;\n",
       "      fill: #D2E3FC;\n",
       "    }\n",
       "\n",
       "    [theme=dark] .colab-df-convert:hover {\n",
       "      background-color: #434B5C;\n",
       "      box-shadow: 0px 1px 3px 1px rgba(0, 0, 0, 0.15);\n",
       "      filter: drop-shadow(0px 1px 2px rgba(0, 0, 0, 0.3));\n",
       "      fill: #FFFFFF;\n",
       "    }\n",
       "  </style>\n",
       "\n",
       "    <script>\n",
       "      const buttonEl =\n",
       "        document.querySelector('#df-ec0adff6-f786-4f68-ad36-7c4f066d2c29 button.colab-df-convert');\n",
       "      buttonEl.style.display =\n",
       "        google.colab.kernel.accessAllowed ? 'block' : 'none';\n",
       "\n",
       "      async function convertToInteractive(key) {\n",
       "        const element = document.querySelector('#df-ec0adff6-f786-4f68-ad36-7c4f066d2c29');\n",
       "        const dataTable =\n",
       "          await google.colab.kernel.invokeFunction('convertToInteractive',\n",
       "                                                    [key], {});\n",
       "        if (!dataTable) return;\n",
       "\n",
       "        const docLinkHtml = 'Like what you see? Visit the ' +\n",
       "          '<a target=\"_blank\" href=https://colab.research.google.com/notebooks/data_table.ipynb>data table notebook</a>'\n",
       "          + ' to learn more about interactive tables.';\n",
       "        element.innerHTML = '';\n",
       "        dataTable['output_type'] = 'display_data';\n",
       "        await google.colab.output.renderOutput(dataTable, element);\n",
       "        const docLink = document.createElement('div');\n",
       "        docLink.innerHTML = docLinkHtml;\n",
       "        element.appendChild(docLink);\n",
       "      }\n",
       "    </script>\n",
       "  </div>\n",
       "\n",
       "\n",
       "<div id=\"df-4e4e179f-8c19-487d-9a92-47650277b211\">\n",
       "  <button class=\"colab-df-quickchart\" onclick=\"quickchart('df-4e4e179f-8c19-487d-9a92-47650277b211')\"\n",
       "            title=\"Suggest charts\"\n",
       "            style=\"display:none;\">\n",
       "\n",
       "<svg xmlns=\"http://www.w3.org/2000/svg\" height=\"24px\"viewBox=\"0 0 24 24\"\n",
       "     width=\"24px\">\n",
       "    <g>\n",
       "        <path d=\"M19 3H5c-1.1 0-2 .9-2 2v14c0 1.1.9 2 2 2h14c1.1 0 2-.9 2-2V5c0-1.1-.9-2-2-2zM9 17H7v-7h2v7zm4 0h-2V7h2v10zm4 0h-2v-4h2v4z\"/>\n",
       "    </g>\n",
       "</svg>\n",
       "  </button>\n",
       "\n",
       "<style>\n",
       "  .colab-df-quickchart {\n",
       "      --bg-color: #E8F0FE;\n",
       "      --fill-color: #1967D2;\n",
       "      --hover-bg-color: #E2EBFA;\n",
       "      --hover-fill-color: #174EA6;\n",
       "      --disabled-fill-color: #AAA;\n",
       "      --disabled-bg-color: #DDD;\n",
       "  }\n",
       "\n",
       "  [theme=dark] .colab-df-quickchart {\n",
       "      --bg-color: #3B4455;\n",
       "      --fill-color: #D2E3FC;\n",
       "      --hover-bg-color: #434B5C;\n",
       "      --hover-fill-color: #FFFFFF;\n",
       "      --disabled-bg-color: #3B4455;\n",
       "      --disabled-fill-color: #666;\n",
       "  }\n",
       "\n",
       "  .colab-df-quickchart {\n",
       "    background-color: var(--bg-color);\n",
       "    border: none;\n",
       "    border-radius: 50%;\n",
       "    cursor: pointer;\n",
       "    display: none;\n",
       "    fill: var(--fill-color);\n",
       "    height: 32px;\n",
       "    padding: 0;\n",
       "    width: 32px;\n",
       "  }\n",
       "\n",
       "  .colab-df-quickchart:hover {\n",
       "    background-color: var(--hover-bg-color);\n",
       "    box-shadow: 0 1px 2px rgba(60, 64, 67, 0.3), 0 1px 3px 1px rgba(60, 64, 67, 0.15);\n",
       "    fill: var(--button-hover-fill-color);\n",
       "  }\n",
       "\n",
       "  .colab-df-quickchart-complete:disabled,\n",
       "  .colab-df-quickchart-complete:disabled:hover {\n",
       "    background-color: var(--disabled-bg-color);\n",
       "    fill: var(--disabled-fill-color);\n",
       "    box-shadow: none;\n",
       "  }\n",
       "\n",
       "  .colab-df-spinner {\n",
       "    border: 2px solid var(--fill-color);\n",
       "    border-color: transparent;\n",
       "    border-bottom-color: var(--fill-color);\n",
       "    animation:\n",
       "      spin 1s steps(1) infinite;\n",
       "  }\n",
       "\n",
       "  @keyframes spin {\n",
       "    0% {\n",
       "      border-color: transparent;\n",
       "      border-bottom-color: var(--fill-color);\n",
       "      border-left-color: var(--fill-color);\n",
       "    }\n",
       "    20% {\n",
       "      border-color: transparent;\n",
       "      border-left-color: var(--fill-color);\n",
       "      border-top-color: var(--fill-color);\n",
       "    }\n",
       "    30% {\n",
       "      border-color: transparent;\n",
       "      border-left-color: var(--fill-color);\n",
       "      border-top-color: var(--fill-color);\n",
       "      border-right-color: var(--fill-color);\n",
       "    }\n",
       "    40% {\n",
       "      border-color: transparent;\n",
       "      border-right-color: var(--fill-color);\n",
       "      border-top-color: var(--fill-color);\n",
       "    }\n",
       "    60% {\n",
       "      border-color: transparent;\n",
       "      border-right-color: var(--fill-color);\n",
       "    }\n",
       "    80% {\n",
       "      border-color: transparent;\n",
       "      border-right-color: var(--fill-color);\n",
       "      border-bottom-color: var(--fill-color);\n",
       "    }\n",
       "    90% {\n",
       "      border-color: transparent;\n",
       "      border-bottom-color: var(--fill-color);\n",
       "    }\n",
       "  }\n",
       "</style>\n",
       "\n",
       "  <script>\n",
       "    async function quickchart(key) {\n",
       "      const quickchartButtonEl =\n",
       "        document.querySelector('#' + key + ' button');\n",
       "      quickchartButtonEl.disabled = true;  // To prevent multiple clicks.\n",
       "      quickchartButtonEl.classList.add('colab-df-spinner');\n",
       "      try {\n",
       "        const charts = await google.colab.kernel.invokeFunction(\n",
       "            'suggestCharts', [key], {});\n",
       "      } catch (error) {\n",
       "        console.error('Error during call to suggestCharts:', error);\n",
       "      }\n",
       "      quickchartButtonEl.classList.remove('colab-df-spinner');\n",
       "      quickchartButtonEl.classList.add('colab-df-quickchart-complete');\n",
       "    }\n",
       "    (() => {\n",
       "      let quickchartButtonEl =\n",
       "        document.querySelector('#df-4e4e179f-8c19-487d-9a92-47650277b211 button');\n",
       "      quickchartButtonEl.style.display =\n",
       "        google.colab.kernel.accessAllowed ? 'block' : 'none';\n",
       "    })();\n",
       "  </script>\n",
       "</div>\n",
       "\n",
       "    </div>\n",
       "  </div>\n"
      ],
      "text/plain": [
       "             count        mean        std  min    25%    50%    75%    max\n",
       "pixel0000  10015.0  181.056415  59.746698  0.0  158.0  198.0  224.0  255.0\n",
       "pixel0001  10015.0  131.728407  45.043473  0.0  117.0  141.0  159.0  246.0\n",
       "pixel0002  10015.0  141.240240  48.672670  0.0  123.0  151.0  172.0  255.0\n",
       "pixel0003  10015.0  187.274488  54.021274  0.0  165.0  201.0  226.0  254.0\n",
       "pixel0004  10015.0  137.089466  41.138096  0.0  122.0  144.0  162.0  246.0\n",
       "...            ...         ...        ...  ...    ...    ...    ...    ...\n",
       "pixel2348  10015.0  138.752172  45.642257  0.0  120.0  146.0  166.0  255.0\n",
       "pixel2349  10015.0  172.307239  58.533979  0.0  153.0  191.0  212.0  254.0\n",
       "pixel2350  10015.0  127.871193  46.453818  0.0  113.0  138.0  156.0  249.0\n",
       "pixel2351  10015.0  133.144483  49.060028  0.0  115.0  142.0  163.0  254.0\n",
       "label      10015.0    3.720919   1.347499  0.0    4.0    4.0    4.0    6.0\n",
       "\n",
       "[2353 rows x 8 columns]"
      ]
     },
     "execution_count": 9,
     "metadata": {},
     "output_type": "execute_result"
    }
   ],
   "source": [
    "df.describe().T"
   ]
  },
  {
   "cell_type": "code",
   "execution_count": 10,
   "metadata": {
    "colab": {
     "base_uri": "https://localhost:8080/",
     "height": 458
    },
    "id": "OJ6R1KCtNTZI",
    "outputId": "ed283075-5ea5-430d-9ecd-0bdbc406e894"
   },
   "outputs": [
    {
     "data": {
      "text/html": [
       "<div>\n",
       "<style scoped>\n",
       "    .dataframe tbody tr th:only-of-type {\n",
       "        vertical-align: middle;\n",
       "    }\n",
       "\n",
       "    .dataframe tbody tr th {\n",
       "        vertical-align: top;\n",
       "    }\n",
       "\n",
       "    .dataframe thead th {\n",
       "        text-align: right;\n",
       "    }\n",
       "</style>\n",
       "<table border=\"1\" class=\"dataframe\">\n",
       "  <thead>\n",
       "    <tr style=\"text-align: right;\">\n",
       "      <th></th>\n",
       "      <th>0</th>\n",
       "    </tr>\n",
       "  </thead>\n",
       "  <tbody>\n",
       "    <tr>\n",
       "      <th>pixel0000</th>\n",
       "      <td>0</td>\n",
       "    </tr>\n",
       "    <tr>\n",
       "      <th>pixel0001</th>\n",
       "      <td>0</td>\n",
       "    </tr>\n",
       "    <tr>\n",
       "      <th>pixel0002</th>\n",
       "      <td>0</td>\n",
       "    </tr>\n",
       "    <tr>\n",
       "      <th>pixel0003</th>\n",
       "      <td>0</td>\n",
       "    </tr>\n",
       "    <tr>\n",
       "      <th>pixel0004</th>\n",
       "      <td>0</td>\n",
       "    </tr>\n",
       "    <tr>\n",
       "      <th>...</th>\n",
       "      <td>...</td>\n",
       "    </tr>\n",
       "    <tr>\n",
       "      <th>pixel2348</th>\n",
       "      <td>0</td>\n",
       "    </tr>\n",
       "    <tr>\n",
       "      <th>pixel2349</th>\n",
       "      <td>0</td>\n",
       "    </tr>\n",
       "    <tr>\n",
       "      <th>pixel2350</th>\n",
       "      <td>0</td>\n",
       "    </tr>\n",
       "    <tr>\n",
       "      <th>pixel2351</th>\n",
       "      <td>0</td>\n",
       "    </tr>\n",
       "    <tr>\n",
       "      <th>label</th>\n",
       "      <td>0</td>\n",
       "    </tr>\n",
       "  </tbody>\n",
       "</table>\n",
       "<p>2353 rows × 1 columns</p>\n",
       "</div><br><label><b>dtype:</b> int64</label>"
      ],
      "text/plain": [
       "pixel0000    0\n",
       "pixel0001    0\n",
       "pixel0002    0\n",
       "pixel0003    0\n",
       "pixel0004    0\n",
       "            ..\n",
       "pixel2348    0\n",
       "pixel2349    0\n",
       "pixel2350    0\n",
       "pixel2351    0\n",
       "label        0\n",
       "Length: 2353, dtype: int64"
      ]
     },
     "execution_count": 10,
     "metadata": {},
     "output_type": "execute_result"
    }
   ],
   "source": [
    "df.isnull().sum()"
   ]
  },
  {
   "cell_type": "code",
   "execution_count": 11,
   "metadata": {
    "colab": {
     "base_uri": "https://localhost:8080/"
    },
    "id": "ljdCPK7tNYJi",
    "outputId": "78cf29c1-22a9-4bf3-ea9f-7a00142b0a86"
   },
   "outputs": [
    {
     "name": "stdout",
     "output_type": "stream",
     "text": [
      "The number of duplicate values in the data set is =  2\n"
     ]
    }
   ],
   "source": [
    "value=len(df[df.duplicated()])\n",
    "print(\"The number of duplicate values in the data set is = \",value)"
   ]
  },
  {
   "cell_type": "code",
   "execution_count": 12,
   "metadata": {
    "colab": {
     "base_uri": "https://localhost:8080/"
    },
    "id": "89v32Z_nNzHa",
    "outputId": "8003409b-f416-44cc-9083-7c508a5fca33"
   },
   "outputs": [
    {
     "name": "stdout",
     "output_type": "stream",
     "text": [
      "The number of duplicate values in the dataset after removal is = 0\n"
     ]
    }
   ],
   "source": [
    "# Remove duplicates\n",
    "df = df.drop_duplicates()\n",
    "\n",
    "df.reset_index(drop=True, inplace=True)\n",
    "\n",
    "value_after_removal = len(df[df.duplicated()])\n",
    "print(\"The number of duplicate values in the dataset after removal is =\", value_after_removal)\n"
   ]
  },
  {
   "cell_type": "code",
   "execution_count": 13,
   "metadata": {
    "colab": {
     "base_uri": "https://localhost:8080/"
    },
    "id": "3u4kkVqlrOV2",
    "outputId": "064c7f50-ab53-42ee-e15d-cf8cb26a199d"
   },
   "outputs": [
    {
     "name": "stderr",
     "output_type": "stream",
     "text": [
      "/usr/local/lib/python3.10/dist-packages/numpy/core/fromnumeric.py:59: FutureWarning: 'DataFrame.swapaxes' is deprecated and will be removed in a future version. Please use 'DataFrame.transpose' instead.\n",
      "  return bound(*args, **kwds)\n"
     ]
    }
   ],
   "source": [
    "fractions=np.array([0.8,0.2])\n",
    "df=df.sample(frac=1)\n",
    "train_set, test_set = np.array_split(\n",
    "    df, (fractions[:-1].cumsum() * len(df)).astype(int))"
   ]
  },
  {
   "cell_type": "code",
   "execution_count": 14,
   "metadata": {
    "colab": {
     "base_uri": "https://localhost:8080/"
    },
    "id": "sb0MbLTF1cGr",
    "outputId": "f60758b5-1aa7-4486-a32c-5c08a70ec06b"
   },
   "outputs": [
    {
     "name": "stdout",
     "output_type": "stream",
     "text": [
      "8010\n"
     ]
    }
   ],
   "source": [
    "print(len(train_set))"
   ]
  },
  {
   "cell_type": "code",
   "execution_count": 15,
   "metadata": {
    "colab": {
     "base_uri": "https://localhost:8080/"
    },
    "id": "6DhB2s7X1qfR",
    "outputId": "79b08fa4-8ebc-4893-9105-4d11c368e5ed"
   },
   "outputs": [
    {
     "name": "stdout",
     "output_type": "stream",
     "text": [
      "2003\n"
     ]
    }
   ],
   "source": [
    "print(len(test_set))"
   ]
  },
  {
   "cell_type": "code",
   "execution_count": 16,
   "metadata": {
    "colab": {
     "base_uri": "https://localhost:8080/"
    },
    "id": "rpb3YhzI1sq6",
    "outputId": "ff312e22-01fc-4358-f000-96c5aac40603"
   },
   "outputs": [
    {
     "data": {
      "text/plain": [
       "array([4, 6, 1, 2, 0, 5, 3])"
      ]
     },
     "execution_count": 16,
     "metadata": {},
     "output_type": "execute_result"
    }
   ],
   "source": [
    "df.label.unique()"
   ]
  },
  {
   "cell_type": "code",
   "execution_count": 17,
   "metadata": {
    "id": "SBw897AG1vzd"
   },
   "outputs": [],
   "source": [
    "classes={0:('actinic keratoses and intraepithelial carcinomae(Cancer)'),\n",
    "         1:('basal cell carcinoma(Cancer)'),\n",
    "         2:('benign keratosis-like lesions(Non-Cancerous)'),\n",
    "         3:('dermatofibroma(Non-Cancerous)'),\n",
    "         4:('melanocytic nevi(Non-Cancerous)'),\n",
    "         5:('pyogenic granulomas and hemorrhage(Can lead to cancer)'),\n",
    "         6:('melanoma(Cancer)')}\n"
   ]
  },
  {
   "cell_type": "code",
   "execution_count": 18,
   "metadata": {
    "id": "wbxizrkJ15Cj"
   },
   "outputs": [],
   "source": [
    "y_train = train_set['label']\n",
    "x_train = train_set.drop(columns=['label'])\n",
    "y_test = test_set['label']\n",
    "x_test = test_set.drop(columns=['label'])\n"
   ]
  },
  {
   "cell_type": "code",
   "execution_count": 21,
   "metadata": {
    "id": "XxH28yNQ2d89"
   },
   "outputs": [],
   "source": [
    "from imblearn.over_sampling import RandomOverSampler\n",
    "oversample = RandomOverSampler()\n",
    "x_train,y_train  = oversample.fit_resample(x_train,y_train)"
   ]
  },
  {
   "cell_type": "code",
   "execution_count": 22,
   "metadata": {
    "colab": {
     "base_uri": "https://localhost:8080/"
    },
    "id": "5LosZ-iYfK_J",
    "outputId": "97e6b0ec-1613-4d92-fa0b-2237f320bf76"
   },
   "outputs": [
    {
     "name": "stdout",
     "output_type": "stream",
     "text": [
      "Number of  actinic keratoses and intraepithelial carcinomae(Cancer) images:  5365\n",
      "Number of  basal cell carcinoma(Cancer) images:  5365\n",
      "Number of  benign keratosis-like lesions(Non-Cancerous) images:  5365\n",
      "Number of  dermatofibroma(Non-Cancerous) images:  5365\n",
      "Number of  melanocytic nevi(Non-Cancerous) images:  5365\n",
      "Number of  pyogenic granulomas and hemorrhage(Can lead to cancer) images:  5365\n",
      "Number of  melanoma(Cancer) images:  5365\n"
     ]
    }
   ],
   "source": [
    "for k in range(7):\n",
    "  print(\"Number of \", classes[k],\"images: \", len([i for i in y_train if i==k]))"
   ]
  },
  {
   "cell_type": "code",
   "execution_count": 23,
   "metadata": {
    "colab": {
     "base_uri": "https://localhost:8080/",
     "height": 1000
    },
    "id": "eeV1BAjQ4LCo",
    "outputId": "45ea3cce-f805-4985-b569-3a940651e89f"
   },
   "outputs": [
    {
     "data": {
      "image/png": "[encoded data removed]",
      "text/plain": [
       "<Figure size 640x480 with 1 Axes>"
      ]
     },
     "metadata": {},
     "output_type": "display_data"
    },
    {
     "data": {
      "image/png": "[encoded data removed]",
      "text/plain": [
       "<Figure size 640x480 with 1 Axes>"
      ]
     },
     "metadata": {},
     "output_type": "display_data"
    },
    {
     "data": {
      "image/png": "[encoded data removed]",
      "text/plain": [
       "<Figure size 640x480 with 1 Axes>"
      ]
     },
     "metadata": {},
     "output_type": "display_data"
    }
   ],
   "source": [
    "import matplotlib.pyplot as plt\n",
    "import random\n",
    "x_train = np.array(x_train, dtype=np.uint8).reshape(-1, 28, 28, 3)\n",
    "for _ in range(3):\n",
    "  num = random.randint(0, 8000)\n",
    "  plt.imshow(x_train[num].reshape(28, 28, 3))\n",
    "  plt.title(classes[y_train[num]])\n",
    "  plt.show()\n"
   ]
  },
  {
   "cell_type": "code",
   "execution_count": 24,
   "metadata": {
    "id": "0lp3af5p4Qh0"
   },
   "outputs": [],
   "source": [
    "from tensorflow.keras.models import Sequential\n",
    "from tensorflow.keras.layers import Conv2D, Flatten, Dense, MaxPool2D\n",
    "import tensorflow as tf"
   ]
  },
  {
   "cell_type": "code",
   "execution_count": 25,
   "metadata": {
    "colab": {
     "base_uri": "https://localhost:8080/"
    },
    "id": "WuDtJD0i5ZOg",
    "outputId": "0a15ac50-16bf-49be-b554-c0d2c8554bfd"
   },
   "outputs": [
    {
     "name": "stdout",
     "output_type": "stream",
     "text": [
      "Model: \"sequential\"\n",
      "_________________________________________________________________\n",
      " Layer (type)                Output Shape              Param #   \n",
      "=================================================================\n",
      " conv2d (Conv2D)             (None, 28, 28, 16)        448       \n",
      "                                                                 \n",
      " max_pooling2d (MaxPooling2  (None, 14, 14, 16)        0         \n",
      " D)                                                              \n",
      "                                                                 \n",
      " batch_normalization (Batch  (None, 14, 14, 16)        64        \n",
      " Normalization)                                                  \n",
      "                                                                 \n",
      " conv2d_1 (Conv2D)           (None, 12, 12, 32)        4640      \n",
      "                                                                 \n",
      " conv2d_2 (Conv2D)           (None, 10, 10, 64)        18496     \n",
      "                                                                 \n",
      " max_pooling2d_1 (MaxPoolin  (None, 5, 5, 64)          0         \n",
      " g2D)                                                            \n",
      "                                                                 \n",
      " batch_normalization_1 (Bat  (None, 5, 5, 64)          256       \n",
      " chNormalization)                                                \n",
      "                                                                 \n",
      " conv2d_3 (Conv2D)           (None, 3, 3, 128)         73856     \n",
      "                                                                 \n",
      " conv2d_4 (Conv2D)           (None, 1, 1, 256)         295168    \n",
      "                                                                 \n",
      " flatten (Flatten)           (None, 256)               0         \n",
      "                                                                 \n",
      " dropout (Dropout)           (None, 256)               0         \n",
      "                                                                 \n",
      " dense (Dense)               (None, 256)               65792     \n",
      "                                                                 \n",
      " batch_normalization_2 (Bat  (None, 256)               1024      \n",
      " chNormalization)                                                \n",
      "                                                                 \n",
      " dropout_1 (Dropout)         (None, 256)               0         \n",
      "                                                                 \n",
      " dense_1 (Dense)             (None, 128)               32896     \n",
      "                                                                 \n",
      " batch_normalization_3 (Bat  (None, 128)               512       \n",
      " chNormalization)                                                \n",
      "                                                                 \n",
      " dense_2 (Dense)             (None, 64)                8256      \n",
      "                                                                 \n",
      " batch_normalization_4 (Bat  (None, 64)                256       \n",
      " chNormalization)                                                \n",
      "                                                                 \n",
      " dropout_2 (Dropout)         (None, 64)                0         \n",
      "                                                                 \n",
      " dense_3 (Dense)             (None, 32)                2080      \n",
      "                                                                 \n",
      " batch_normalization_5 (Bat  (None, 32)                128       \n",
      " chNormalization)                                                \n",
      "                                                                 \n",
      " dense_4 (Dense)             (None, 7)                 231       \n",
      "                                                                 \n",
      "=================================================================\n",
      "Total params: 504103 (1.92 MB)\n",
      "Trainable params: 502983 (1.92 MB)\n",
      "Non-trainable params: 1120 (4.38 KB)\n",
      "_________________________________________________________________\n"
     ]
    }
   ],
   "source": [
    "model = Sequential()\n",
    "model.add(Conv2D(16, kernel_size=(3,3), input_shape=(28, 28, 3), activation='relu', padding='same'))\n",
    "model.add(MaxPool2D(pool_size=(2,2)))\n",
    "model.add(tf.keras.layers.BatchNormalization())\n",
    "model.add(Conv2D(32, kernel_size=(3,3), activation='relu'))\n",
    "model.add(Conv2D(64, kernel_size=(3,3), activation='relu'))\n",
    "model.add(MaxPool2D(pool_size=(2,2)))\n",
    "model.add(tf.keras.layers.BatchNormalization())\n",
    "model.add(Conv2D(128, kernel_size=(3,3), activation='relu'))\n",
    "model.add(Conv2D(256, kernel_size=(3,3), activation='relu'))\n",
    "model.add(Flatten())\n",
    "model.add(tf.keras.layers.Dropout(0.2))\n",
    "model.add(Dense(256,activation='relu'))\n",
    "model.add(tf.keras.layers.BatchNormalization())\n",
    "model.add(tf.keras.layers.Dropout(0.2))\n",
    "model.add(Dense(128,activation='relu'))\n",
    "model.add(tf.keras.layers.BatchNormalization())\n",
    "model.add(Dense(64,activation='relu'))\n",
    "model.add(tf.keras.layers.BatchNormalization())\n",
    "model.add(tf.keras.layers.Dropout(0.2))\n",
    "model.add(Dense(32,activation='relu'))\n",
    "model.add(tf.keras.layers.BatchNormalization())\n",
    "model.add(Dense(7,activation='softmax'))\n",
    "\n",
    "model.summary()"
   ]
  },
  {
   "cell_type": "code",
   "execution_count": 26,
   "metadata": {
    "id": "wdJ7q76J6mMW"
   },
   "outputs": [],
   "source": [
    "#Checkpoint\n",
    "# checkpoint_path = \"/content/sample_data/Checkpoints/model-{epoch:03d}.hdf5\"\n",
    "# callback = tf.keras.callbacks.ModelCheckpoint('D:/Coding/Skin_Cancer_Detection/Checkpoints/model-{epoch:3d}.hdf5', monitor='val_accuracy', mode='auto', verbose=0, save_best_only=True)\n",
    "# Define the path for saving checkpoints\n",
    "checkpoint_path = \"/content/sample_data/Checkpoints/model-{epoch:03d}.hdf5\"\n",
    "\n",
    "# Set up the ModelCheckpoint callback using checkpoint_path\n",
    "callback = tf.keras.callbacks.ModelCheckpoint(\n",
    "    filepath=checkpoint_path,   # Use the variable here\n",
    "    monitor='val_accuracy',\n",
    "    mode='auto',\n",
    "    verbose=0,\n",
    "    save_best_only=True\n",
    ")\n"
   ]
  },
  {
   "cell_type": "code",
   "execution_count": 27,
   "metadata": {
    "colab": {
     "base_uri": "https://localhost:8080/"
    },
    "id": "P9JdY1Rz73tW",
    "outputId": "6e6f4cbd-a2ca-415b-ca61-da0d79f4589f"
   },
   "outputs": [
    {
     "name": "stderr",
     "output_type": "stream",
     "text": [
      "WARNING:absl:`lr` is deprecated in Keras optimizer, please use `learning_rate` or use the legacy optimizer, e.g.,tf.keras.optimizers.legacy.Adam.\n"
     ]
    },
    {
     "name": "stdout",
     "output_type": "stream",
     "text": [
      "Epoch 1/50\n",
      "235/235 [==============================] - 10s 29ms/step - loss: 1.2344 - accuracy: 0.5581 - val_loss: 2.2864 - val_accuracy: 0.1923\n",
      "Epoch 2/50\n",
      "  3/235 [..............................] - ETA: 7s - loss: 0.6601 - accuracy: 0.7630"
     ]
    },
    {
     "name": "stderr",
     "output_type": "stream",
     "text": [
      "/usr/local/lib/python3.10/dist-packages/keras/src/engine/training.py:3103: UserWarning: You are saving your model as an HDF5 file via `model.save()`. This file format is considered legacy. We recommend using instead the native Keras format, e.g. `model.save('my_model.keras')`.\n",
      "  saving_api.save_model(\n"
     ]
    },
    {
     "name": "stdout",
     "output_type": "stream",
     "text": [
      "235/235 [==============================] - 6s 25ms/step - loss: 0.4448 - accuracy: 0.8535 - val_loss: 1.7127 - val_accuracy: 0.3717\n",
      "Epoch 3/50\n",
      "235/235 [==============================] - 6s 26ms/step - loss: 0.2654 - accuracy: 0.9118 - val_loss: 1.5425 - val_accuracy: 0.4234\n",
      "Epoch 4/50\n",
      "235/235 [==============================] - 6s 26ms/step - loss: 0.2200 - accuracy: 0.9228 - val_loss: 1.2437 - val_accuracy: 0.4672\n",
      "Epoch 5/50\n",
      "235/235 [==============================] - 6s 26ms/step - loss: 0.1872 - accuracy: 0.9355 - val_loss: 0.9278 - val_accuracy: 0.6542\n",
      "Epoch 6/50\n",
      "235/235 [==============================] - 6s 26ms/step - loss: 0.1458 - accuracy: 0.9495 - val_loss: 0.7723 - val_accuracy: 0.6176\n",
      "Epoch 7/50\n",
      "235/235 [==============================] - 6s 26ms/step - loss: 0.1413 - accuracy: 0.9513 - val_loss: 1.0177 - val_accuracy: 0.5471\n",
      "Epoch 8/50\n",
      "235/235 [==============================] - 6s 26ms/step - loss: 0.1088 - accuracy: 0.9629 - val_loss: 0.7697 - val_accuracy: 0.6230\n",
      "Epoch 9/50\n",
      "235/235 [==============================] - 6s 25ms/step - loss: 0.1080 - accuracy: 0.9632 - val_loss: 0.6106 - val_accuracy: 0.7169\n",
      "Epoch 10/50\n",
      "235/235 [==============================] - 6s 26ms/step - loss: 0.0949 - accuracy: 0.9665 - val_loss: 0.9133 - val_accuracy: 0.6614\n",
      "Epoch 11/50\n",
      "235/235 [==============================] - 6s 27ms/step - loss: 0.0823 - accuracy: 0.9719 - val_loss: 0.7689 - val_accuracy: 0.6560\n",
      "Epoch 12/50\n",
      "235/235 [==============================] - 6s 26ms/step - loss: 0.0739 - accuracy: 0.9747 - val_loss: 0.7531 - val_accuracy: 0.7071\n",
      "Epoch 13/50\n",
      "235/235 [==============================] - 6s 26ms/step - loss: 0.0694 - accuracy: 0.9762 - val_loss: 0.8950 - val_accuracy: 0.6674\n",
      "Epoch 14/50\n",
      "235/235 [==============================] - 6s 26ms/step - loss: 0.0743 - accuracy: 0.9741 - val_loss: 0.7627 - val_accuracy: 0.7032\n",
      "Epoch 15/50\n",
      "235/235 [==============================] - 6s 26ms/step - loss: 0.0636 - accuracy: 0.9786 - val_loss: 0.3133 - val_accuracy: 0.8771\n",
      "Epoch 16/50\n",
      "235/235 [==============================] - 6s 26ms/step - loss: 0.0599 - accuracy: 0.9793 - val_loss: 0.2553 - val_accuracy: 0.8943\n",
      "Epoch 17/50\n",
      "235/235 [==============================] - 6s 26ms/step - loss: 0.0465 - accuracy: 0.9841 - val_loss: 1.7157 - val_accuracy: 0.5304\n",
      "Epoch 18/50\n",
      "235/235 [==============================] - 6s 26ms/step - loss: 0.0415 - accuracy: 0.9863 - val_loss: 0.5149 - val_accuracy: 0.8450\n",
      "Epoch 19/50\n",
      "235/235 [==============================] - 6s 26ms/step - loss: 0.0589 - accuracy: 0.9810 - val_loss: 0.3174 - val_accuracy: 0.8838\n",
      "Epoch 20/50\n",
      "235/235 [==============================] - 6s 26ms/step - loss: 0.0316 - accuracy: 0.9890 - val_loss: 0.2424 - val_accuracy: 0.8931\n",
      "Epoch 21/50\n",
      "235/235 [==============================] - 6s 27ms/step - loss: 0.0378 - accuracy: 0.9873 - val_loss: 1.0918 - val_accuracy: 0.7629\n",
      "Epoch 22/50\n",
      "235/235 [==============================] - 6s 27ms/step - loss: 0.0453 - accuracy: 0.9853 - val_loss: 0.1607 - val_accuracy: 0.9494\n",
      "Epoch 23/50\n",
      "235/235 [==============================] - 6s 26ms/step - loss: 0.0283 - accuracy: 0.9908 - val_loss: 0.1547 - val_accuracy: 0.9422\n",
      "Epoch 24/50\n",
      "235/235 [==============================] - 6s 27ms/step - loss: 0.0352 - accuracy: 0.9885 - val_loss: 0.0538 - val_accuracy: 0.9850\n",
      "Epoch 25/50\n",
      "235/235 [==============================] - 6s 26ms/step - loss: 0.0249 - accuracy: 0.9920 - val_loss: 0.3463 - val_accuracy: 0.8722\n",
      "Epoch 26/50\n",
      "235/235 [==============================] - 6s 27ms/step - loss: 0.0264 - accuracy: 0.9915 - val_loss: 2.6601 - val_accuracy: 0.4437\n",
      "Epoch 27/50\n",
      "235/235 [==============================] - 6s 27ms/step - loss: 0.0308 - accuracy: 0.9899 - val_loss: 0.8336 - val_accuracy: 0.7470\n",
      "Epoch 28/50\n",
      "235/235 [==============================] - 6s 27ms/step - loss: 0.0346 - accuracy: 0.9898 - val_loss: 0.1569 - val_accuracy: 0.9393\n",
      "Epoch 29/50\n",
      "235/235 [==============================] - 6s 26ms/step - loss: 0.0262 - accuracy: 0.9913 - val_loss: 0.0632 - val_accuracy: 0.9767\n",
      "Epoch 30/50\n",
      "235/235 [==============================] - 6s 27ms/step - loss: 0.0223 - accuracy: 0.9928 - val_loss: 0.2194 - val_accuracy: 0.9165\n",
      "Epoch 31/50\n",
      "235/235 [==============================] - 6s 28ms/step - loss: 0.0316 - accuracy: 0.9898 - val_loss: 1.1340 - val_accuracy: 0.6733\n",
      "Epoch 32/50\n",
      "235/235 [==============================] - 6s 27ms/step - loss: 0.0246 - accuracy: 0.9919 - val_loss: 0.5557 - val_accuracy: 0.8204\n",
      "Epoch 33/50\n",
      "235/235 [==============================] - 6s 27ms/step - loss: 0.0200 - accuracy: 0.9937 - val_loss: 0.2607 - val_accuracy: 0.9316\n",
      "Epoch 34/50\n",
      "235/235 [==============================] - 6s 26ms/step - loss: 0.0160 - accuracy: 0.9949 - val_loss: 0.1267 - val_accuracy: 0.9637\n",
      "Epoch 35/50\n",
      "235/235 [==============================] - 6s 26ms/step - loss: 0.0191 - accuracy: 0.9940 - val_loss: 0.0676 - val_accuracy: 0.9752\n",
      "Epoch 36/50\n",
      "235/235 [==============================] - 6s 26ms/step - loss: 0.0128 - accuracy: 0.9958 - val_loss: 0.6515 - val_accuracy: 0.8187\n",
      "Epoch 37/50\n",
      "235/235 [==============================] - 6s 27ms/step - loss: 0.0228 - accuracy: 0.9929 - val_loss: 0.1599 - val_accuracy: 0.9487\n",
      "Epoch 38/50\n",
      "235/235 [==============================] - 6s 27ms/step - loss: 0.0190 - accuracy: 0.9940 - val_loss: 0.3608 - val_accuracy: 0.8930\n",
      "Epoch 39/50\n",
      "235/235 [==============================] - 6s 26ms/step - loss: 0.0158 - accuracy: 0.9945 - val_loss: 0.1889 - val_accuracy: 0.9356\n",
      "Epoch 40/50\n",
      "235/235 [==============================] - 6s 26ms/step - loss: 0.0206 - accuracy: 0.9937 - val_loss: 0.2014 - val_accuracy: 0.9324\n",
      "Epoch 41/50\n",
      "235/235 [==============================] - 6s 26ms/step - loss: 0.0128 - accuracy: 0.9959 - val_loss: 0.0411 - val_accuracy: 0.9831\n",
      "Epoch 42/50\n",
      "235/235 [==============================] - 6s 27ms/step - loss: 0.0115 - accuracy: 0.9965 - val_loss: 0.2139 - val_accuracy: 0.9356\n",
      "Epoch 43/50\n",
      "235/235 [==============================] - 6s 26ms/step - loss: 0.0225 - accuracy: 0.9930 - val_loss: 0.0641 - val_accuracy: 0.9767\n",
      "Epoch 44/50\n",
      "235/235 [==============================] - 6s 26ms/step - loss: 0.0164 - accuracy: 0.9947 - val_loss: 0.0249 - val_accuracy: 0.9916\n",
      "Epoch 45/50\n",
      "235/235 [==============================] - 6s 27ms/step - loss: 0.0103 - accuracy: 0.9966 - val_loss: 0.9585 - val_accuracy: 0.8215\n",
      "Epoch 46/50\n",
      "235/235 [==============================] - 6s 27ms/step - loss: 0.0115 - accuracy: 0.9965 - val_loss: 0.1640 - val_accuracy: 0.9519\n",
      "Epoch 47/50\n",
      "235/235 [==============================] - 6s 26ms/step - loss: 0.0207 - accuracy: 0.9941 - val_loss: 0.1646 - val_accuracy: 0.9489\n",
      "Epoch 48/50\n",
      "235/235 [==============================] - 6s 26ms/step - loss: 0.0169 - accuracy: 0.9945 - val_loss: 0.9771 - val_accuracy: 0.7568\n",
      "Epoch 49/50\n",
      "235/235 [==============================] - 6s 25ms/step - loss: 0.0160 - accuracy: 0.9948 - val_loss: 0.1585 - val_accuracy: 0.9470\n",
      "Epoch 50/50\n",
      "235/235 [==============================] - 6s 27ms/step - loss: 0.0059 - accuracy: 0.9983 - val_loss: 0.0127 - val_accuracy: 0.9973\n"
     ]
    }
   ],
   "source": [
    "Optimizer = tf.keras.optimizers.Adam(lr=0.001)\n",
    "model.compile(loss='sparse_categorical_crossentropy', optimizer=Optimizer, metrics=['accuracy'])\n",
    "\n",
    "history = model.fit(x_train,\n",
    "                    y_train,\n",
    "                    validation_split=0.2,\n",
    "                    batch_size=128,\n",
    "                    epochs=50,\n",
    "                    shuffle=True,\n",
    "                    callbacks=[callback])"
   ]
  },
  {
   "cell_type": "code",
   "execution_count": 28,
   "metadata": {
    "colab": {
     "base_uri": "https://localhost:8080/",
     "height": 564
    },
    "id": "KDGRNIGhRMMD",
    "outputId": "0a4a1db2-a5b6-4565-d2d0-05d71be1e5bd"
   },
   "outputs": [
    {
     "data": {
      "image/png": "[encoded data removed]",
      "text/plain": [
       "<Figure size 1200x600 with 1 Axes>"
      ]
     },
     "metadata": {},
     "output_type": "display_data"
    }
   ],
   "source": [
    "plt.figure(figsize=(12, 6))\n",
    "plt.plot(history.history['accuracy'], label='Training Accuracy')\n",
    "plt.plot(history.history['val_accuracy'], label='Validation Accuracy')\n",
    "plt.title('Model Accuracy')\n",
    "plt.xlabel('Epochs')\n",
    "plt.ylabel('Accuracy')\n",
    "plt.legend(loc='upper left')\n",
    "plt.grid()\n",
    "plt.show()"
   ]
  },
  {
   "cell_type": "code",
   "execution_count": 29,
   "metadata": {
    "colab": {
     "base_uri": "https://localhost:8080/",
     "height": 564
    },
    "id": "cRscocGDRXaQ",
    "outputId": "df513003-efcb-46ea-a4ea-8559ef382d19"
   },
   "outputs": [
    {
     "data": {
      "image/png": "[encoded data removed]",
      "text/plain": [
       "<Figure size 1200x600 with 1 Axes>"
      ]
     },
     "metadata": {},
     "output_type": "display_data"
    }
   ],
   "source": [
    "plt.figure(figsize=(12, 6))\n",
    "plt.plot(history.history['loss'], label='Training Loss')\n",
    "plt.plot(history.history['val_loss'], label='Validation Loss')\n",
    "plt.title('Model Loss')\n",
    "plt.xlabel('Epochs')\n",
    "plt.ylabel('Loss')\n",
    "plt.legend(loc='upper left')\n",
    "plt.grid()\n",
    "plt.show()"
   ]
  },
  {
   "cell_type": "code",
   "execution_count": 30,
   "metadata": {
    "id": "KlksJw56Jcvd"
   },
   "outputs": [],
   "source": [
    "\n",
    "model.load_weights('/content/sample_data/Checkpoints/model-050.hdf5')\n"
   ]
  },
  {
   "cell_type": "code",
   "execution_count": 31,
   "metadata": {
    "colab": {
     "base_uri": "https://localhost:8080/"
    },
    "id": "RfgTt55_JnD4",
    "outputId": "8ef7ff45-7b3c-41f7-8d27-9129f2aa5bdb",
    "scrolled": true
   },
   "outputs": [
    {
     "name": "stdout",
     "output_type": "stream",
     "text": [
      "63/63 - 1s - loss: 1.6504 - accuracy: 0.7379 - 714ms/epoch - 11ms/step\n"
     ]
    }
   ],
   "source": [
    "x_test = np.array(x_test).reshape(-1, 28, 28, 3)\n",
    "loss, acc = model.evaluate(x_test, y_test, verbose=2)"
   ]
  },
  {
   "cell_type": "code",
   "execution_count": 33,
   "metadata": {
    "colab": {
     "base_uri": "https://localhost:8080/"
    },
    "id": "Vy8ETq0gJyM0",
    "outputId": "a63b695b-d671-4f7e-ae29-92cab0bb4c8d"
   },
   "outputs": [
    {
     "name": "stdout",
     "output_type": "stream",
     "text": [
      "1/1 [==============================] - 0s 203ms/step\n",
      "melanoma(Cancer)\n",
      "Confidence:  99.83214735984802 %\n"
     ]
    }
   ],
   "source": [
    "import PIL\n",
    "img = PIL.Image.open('/content/sample_data/testing_images/mole.jpeg')\n",
    "img = img.resize((28, 28))\n",
    "img = np.array(img).reshape(-1, 28, 28, 3)\n",
    "result = model.predict(img)\n",
    "\n",
    "# print(result[0])\n",
    "\n",
    "result=result.tolist()\n",
    "max_prob=max(result[0])\n",
    "class_ind=result[0].index(max_prob)\n",
    "print(classes[class_ind])\n",
    "print(\"Confidence: \", max(result[0])*100,\"%\")"
   ]
  }
 ],
 "metadata": {
  "accelerator": "TPU",
  "colab": {
   "gpuType": "V28",
   "provenance": []
  },
  "kernelspec": {
   "display_name": "Python 3",
   "name": "python3"
  },
  "language_info": {
   "codemirror_mode": {
    "name": "ipython",
    "version": 3
   },
   "file_extension": ".py",
   "mimetype": "text/x-python",
   "name": "python",
   "nbconvert_exporter": "python",
   "pygments_lexer": "ipython3",
   "version": "3.11.9"
  }
 },
 "nbformat": 4,
 "nbformat_minor": 0
}
